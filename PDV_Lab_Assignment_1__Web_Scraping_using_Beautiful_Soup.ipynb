{
  "nbformat": 4,
  "nbformat_minor": 0,
  "metadata": {
    "colab": {
      "name": "PDV-Lab Assignment-1 ->Web Scraping using Beautiful Soup",
      "provenance": [],
      "collapsed_sections": []
    },
    "kernelspec": {
      "name": "python3",
      "display_name": "Python 3"
    }
  },
  "cells": [
    {
      "cell_type": "code",
      "metadata": {
        "id": "4HL8ib3Wab5p"
      },
      "source": [
        "\n",
        "import requests \n",
        "from bs4 import BeautifulSoup\n",
        "import time\n",
        "\n",
        "print('Put some skill that you are not familiar with')\n",
        "unfamiliar_skill = input('>')\n",
        "print(f'Filtering out {unfamiliar_skill} ')\n",
        "print('')\n",
        "\n",
        "def find_jobs():\n",
        "  URL = \"https://www.timesjobs.com/candidate/job-search.html?searchType=personalizedSearch&from=submit&txtKeywords=Python&txtLocation=\"\n",
        "  html_text = requests.get(URL).text \n",
        "  #print(r)\n",
        "  soup = BeautifulSoup(html_text, 'html5lib') \n",
        "  jobs = soup.find_all('li', class_='clearfix job-bx wht-shd-bx')\n",
        "  #print(job)\n",
        "  for job in jobs:\n",
        "    published_date = job.find('span', class_='sim-posted').span.text\n",
        "    if 'few' in published_date:\n",
        "      #print(published_date)\n",
        "      company_name = job.find('h3', class_ = 'joblist-comp-name').text\n",
        "      skills = job.find('span',class_='srp-skills').text.strip().replace(' ','')\n",
        "      more_info = job.header.h2.a['href']\n",
        "      if unfamiliar_skill not in skills:\n",
        "        print(f\"Company Name: {company_name.strip()}\")\n",
        "        print(f\"Required Skills: {skills.strip()}\")\n",
        "        print(f'More Info: {more_info}')\n",
        "        print('')\n",
        "\n",
        "if __name__ == '__main__':\n",
        "  while True:\n",
        "    find_jobs()\n",
        "    time_wait = 10\n",
        "    print(f'Waiting {time_wait} minutes..')\n",
        "    time.sleep(time_wait * 60)\n",
        "  \n",
        "\n",
        "  #print(skills)\n",
        "  #print(company_name)"
      ],
      "execution_count": null,
      "outputs": []
    }
  ]
}